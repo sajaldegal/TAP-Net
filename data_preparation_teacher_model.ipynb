{
 "cells": [
  {
   "cell_type": "code",
   "execution_count": 1,
   "id": "f55a4ca2-f1d2-4fcd-b710-f38b8ee5c3de",
   "metadata": {},
   "outputs": [
    {
     "data": {
      "text/plain": [
       "['case_1_IMG_20240227_2_1.jpg',\n",
       " 'case_1_IMG_20240227_2_10.jpg',\n",
       " 'case_1_IMG_20240227_2_11.jpg',\n",
       " 'case_1_IMG_20240227_2_12.jpg',\n",
       " 'case_1_IMG_20240227_2_13.jpg']"
      ]
     },
     "execution_count": 1,
     "metadata": {},
     "output_type": "execute_result"
    }
   ],
   "source": [
    "import shutil\n",
    "from pathlib import Path\n",
    "\n",
    "# Source and target paths\n",
    "SOURCE_ROOT = Path(\"G:/Sajal_Data/Obj_4_Code/Teacher_model_training/main_Data\")  # Each subfolder like case1, case2...\n",
    "TARGET_FOLDER = Path(\"G:/Sajal_Data/Obj_4_Code/Teacher_model_training/data/images\")\n",
    "TARGET_FOLDER.mkdir(parents=True, exist_ok=True)\n",
    "\n",
    "# Supported image extensions\n",
    "image_exts = [\".jpg\", \".jpeg\", \".png\"]\n",
    "\n",
    "# Copy images with case number included in filename\n",
    "copied_files = []\n",
    "for case_folder in sorted(SOURCE_ROOT.glob(\"case*\")):\n",
    "    case_id = case_folder.name.replace(\" \", \"_\").lower()  # Normalize \"case 1\" to \"case_1\"\n",
    "    for img_file in case_folder.glob(\"*\"):\n",
    "        if img_file.suffix.lower() in image_exts:\n",
    "            new_name = f\"{case_id}_{img_file.name}\"\n",
    "            dest_path = TARGET_FOLDER / new_name\n",
    "            shutil.copy(img_file, dest_path)\n",
    "            copied_files.append(new_name)\n",
    "\n",
    "copied_files[:5]  # Show a sample of copied filenames\n"
   ]
  },
  {
   "cell_type": "code",
   "execution_count": 3,
   "id": "8192347e-4503-4d89-b413-b1623a0be5da",
   "metadata": {},
   "outputs": [
    {
     "data": {
      "text/plain": [
       "['case_10_IMG_20240412_1_2.jpg',\n",
       " 'case_10_IMG_20240412_1_3.jpg',\n",
       " 'case_10_IMG_20240412_1_4.jpg',\n",
       " 'case_10_IMG_20240412_1_5.jpg',\n",
       " 'case_11_IMG_20240412_3_13.jpg']"
      ]
     },
     "execution_count": 3,
     "metadata": {},
     "output_type": "execute_result"
    }
   ],
   "source": [
    "import cv2\n",
    "import pytesseract\n",
    "import shutil\n",
    "from pathlib import Path\n",
    "import numpy as np\n",
    "\n",
    "# Input/output directories\n",
    "INPUT_DIR = Path(\"G:/Sajal_Data/Obj_4_Code/Teacher_model_training/Filtered_Data\")\n",
    "OUTPUT_DIR = Path(\"G:/Sajal_Data/Obj_4_Code/Teacher_model_training/data/images\")\n",
    "OUTPUT_DIR.mkdir(parents=True, exist_ok=True)\n",
    "\n",
    "# Keywords to check for in OCR text\n",
    "keywords = [\"HC\", \"AC\", \"FL\", \"BPD\"]\n",
    "\n",
    "# Supported image formats\n",
    "image_exts = [\".jpg\", \".jpeg\", \".png\"]\n",
    "\n",
    "# Function to extract bottom-right region for OCR\n",
    "def extract_bottom_right(image, fraction=0.25):\n",
    "    h, w = image.shape[:2]\n",
    "    return image[int(h*(1-fraction)):, int(w*(1-fraction)):]\n",
    "\n",
    "# Function to enhance image for better OCR\n",
    "def preprocess_for_ocr(image):\n",
    "    gray = cv2.cvtColor(image, cv2.COLOR_BGR2GRAY)\n",
    "    inverted = cv2.bitwise_not(gray)\n",
    "    thresh = cv2.adaptiveThreshold(inverted, 255, cv2.ADAPTIVE_THRESH_MEAN_C,\n",
    "                                   cv2.THRESH_BINARY, 11, 4)\n",
    "    return thresh\n",
    "\n",
    "copied = []\n",
    "\n",
    "# Process all images\n",
    "for image_path in INPUT_DIR.glob(\"*\"):\n",
    "    if image_path.suffix.lower() in image_exts:\n",
    "        img = cv2.imread(str(image_path))\n",
    "        roi = extract_bottom_right(img)\n",
    "        ocr_ready = preprocess_for_ocr(roi)\n",
    "        text = pytesseract.image_to_string(ocr_ready).upper().replace(\" \", \"\")\n",
    "\n",
    "        # Check if any keyword is present\n",
    "        if any(k in text for k in keywords):\n",
    "            dest_path = OUTPUT_DIR / image_path.name\n",
    "            shutil.copy(image_path, dest_path)\n",
    "            copied.append(image_path.name)\n",
    "\n",
    "copied[:5]  # Show some sample matches"
   ]
  },
  {
   "cell_type": "code",
   "execution_count": null,
   "id": "49dfce4e-ee3e-45d7-ba95-b30dac158439",
   "metadata": {},
   "outputs": [],
   "source": []
  }
 ],
 "metadata": {
  "kernelspec": {
   "display_name": "Python 3 (ipykernel)",
   "language": "python",
   "name": "python3"
  },
  "language_info": {
   "codemirror_mode": {
    "name": "ipython",
    "version": 3
   },
   "file_extension": ".py",
   "mimetype": "text/x-python",
   "name": "python",
   "nbconvert_exporter": "python",
   "pygments_lexer": "ipython3",
   "version": "3.12.3"
  }
 },
 "nbformat": 4,
 "nbformat_minor": 5
}
