{
 "cells": [
  {
   "cell_type": "code",
   "execution_count": 3,
   "id": "e73f39aa-7d1c-4fb4-ae07-1a278a9cea6a",
   "metadata": {},
   "outputs": [
    {
     "data": {
      "text/plain": [
       "'G:/Sajal_Data/Obj_4_Code/Teacher_model_training/data/kamra_teacher_expanded.csv'"
      ]
     },
     "execution_count": 3,
     "metadata": {},
     "output_type": "execute_result"
    }
   ],
   "source": [
    "import pandas as pd\n",
    "\n",
    "# Load original multi-value CSV\n",
    "df = pd.read_csv(\"G:/Sajal_Data/Obj_4_Code/Teacher_model_training/data/kamra_measurements.csv\")\n",
    "\n",
    "# Expand into multiple rows with 'type' column\n",
    "rows = []\n",
    "for _, row in df.iterrows():\n",
    "    if not pd.isna(row.get('HC')):\n",
    "        rows.append({'image': row['image'], 'plane': 'head', 'value': row['HC'], 'type': 'HC'})\n",
    "    if not pd.isna(row.get('BPD')):\n",
    "        rows.append({'image': row['image'], 'plane': 'head', 'value': row['BPD'], 'type': 'BPD'})\n",
    "    if not pd.isna(row.get('AC')):\n",
    "        rows.append({'image': row['image'], 'plane': 'abdomen', 'value': row['AC'], 'type': 'AC'})\n",
    "    if not pd.isna(row.get('FL')):\n",
    "        rows.append({'image': row['image'], 'plane': 'femur', 'value': row['FL'], 'type': 'FL'})\n",
    "\n",
    "df_expanded = pd.DataFrame(rows)\n",
    "output_csv = \"G:/Sajal_Data/Obj_4_Code/Teacher_model_training/data/kamra_teacher_expanded.csv\"\n",
    "df_expanded.to_csv(output_csv, index=False)\n",
    "\n",
    "output_csv\n"
   ]
  },
  {
   "cell_type": "code",
   "execution_count": null,
   "id": "0acfef7f-87f7-4448-a784-f7ae0a28ffc7",
   "metadata": {},
   "outputs": [],
   "source": []
  }
 ],
 "metadata": {
  "kernelspec": {
   "display_name": "Python 3 (ipykernel)",
   "language": "python",
   "name": "python3"
  },
  "language_info": {
   "codemirror_mode": {
    "name": "ipython",
    "version": 3
   },
   "file_extension": ".py",
   "mimetype": "text/x-python",
   "name": "python",
   "nbconvert_exporter": "python",
   "pygments_lexer": "ipython3",
   "version": "3.12.3"
  }
 },
 "nbformat": 4,
 "nbformat_minor": 5
}
