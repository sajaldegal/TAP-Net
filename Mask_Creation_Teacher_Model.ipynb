{
 "cells": [
  {
   "cell_type": "code",
   "execution_count": 1,
   "id": "5e92448d-491e-4df7-8200-0137ed9777c0",
   "metadata": {},
   "outputs": [
    {
     "data": {
      "text/plain": [
       "'kamra_measurements.csv'"
      ]
     },
     "execution_count": 1,
     "metadata": {},
     "output_type": "execute_result"
    }
   ],
   "source": [
    "import cv2\n",
    "import numpy as np\n",
    "import pytesseract\n",
    "import pandas as pd\n",
    "from pathlib import Path\n",
    "from PIL import Image\n",
    "import re\n",
    "\n",
    "# Paths\n",
    "INPUT_DIR = Path(\"G:/Sajal_Data/Obj_4_Code/Teacher_model_training/data/images\")  # Folder with input images\n",
    "MASK_OUTPUT_DIR = Path(\"G:/Sajal_Data/Obj_4_Code/Teacher_model_training/data/masks\")\n",
    "MASK_OUTPUT_DIR.mkdir(parents=True, exist_ok=True)\n",
    "CSV_PATH = Path(\"G:/Sajal_Data/Obj_4_Code/Teacher_model_training/data/kamra_measurements.csv\")\n",
    "\n",
    "# Initialize measurement storage\n",
    "measurements = []\n",
    "\n",
    "# Regular expressions for measurement extraction\n",
    "patterns = {\n",
    "    \"HC\": re.compile(r\"HC\\s*[:=]?\\s*([0-9]+\\.[0-9]+)\"),\n",
    "    \"AC\": re.compile(r\"AC\\s*[:=]?\\s*([0-9]+\\.[0-9]+)\"),\n",
    "    \"BPD\": re.compile(r\"BPD\\s*[:=]?\\s*([0-9]+\\.[0-9]+)\"),\n",
    "    \"FL\": re.compile(r\"FL\\s*[:=]?\\s*([0-9]+\\.[0-9]+)\")\n",
    "}\n",
    "\n",
    "# Process each image\n",
    "for img_path in sorted(INPUT_DIR.glob(\"*.jpg\")):\n",
    "    image_name = img_path.name\n",
    "    image_bgr = cv2.imread(str(img_path))\n",
    "    image_rgb = cv2.cvtColor(image_bgr, cv2.COLOR_BGR2RGB)\n",
    "\n",
    "    # === Mask Extraction ===\n",
    "    hsv = cv2.cvtColor(image_bgr, cv2.COLOR_BGR2HSV)\n",
    "    lower_yellow = np.array([20, 100, 100])\n",
    "    upper_yellow = np.array([40, 255, 255])\n",
    "    mask_yellow = cv2.inRange(hsv, lower_yellow, upper_yellow)\n",
    "\n",
    "    contours, _ = cv2.findContours(mask_yellow, cv2.RETR_EXTERNAL, cv2.CHAIN_APPROX_SIMPLE)\n",
    "    mask_filled = np.zeros_like(mask_yellow)\n",
    "    cv2.drawContours(mask_filled, contours, -1, 255, thickness=cv2.FILLED)\n",
    "\n",
    "    # Save the mask\n",
    "    mask_filename = MASK_OUTPUT_DIR / f\"{img_path.stem}_mask.png\"\n",
    "    Image.fromarray(mask_filled).save(mask_filename)\n",
    "\n",
    "    # === Measurement Extraction ===\n",
    "    text = pytesseract.image_to_string(image_rgb)\n",
    "    row = {\"image\": image_name}\n",
    "    for key, pattern in patterns.items():\n",
    "        match = pattern.search(text)\n",
    "        row[key] = float(match.group(1)) if match else None\n",
    "    measurements.append(row)\n",
    "\n",
    "# Save measurements to CSV\n",
    "df = pd.DataFrame(measurements)\n",
    "df.to_csv(CSV_PATH, index=False)\n",
    "\n",
    "CSV_PATH.name  # return file name for verification\n"
   ]
  },
  {
   "cell_type": "code",
   "execution_count": null,
   "id": "9e82aba7-8572-4f25-ab22-d6d59843ac8f",
   "metadata": {},
   "outputs": [],
   "source": []
  }
 ],
 "metadata": {
  "kernelspec": {
   "display_name": "Python 3 (ipykernel)",
   "language": "python",
   "name": "python3"
  },
  "language_info": {
   "codemirror_mode": {
    "name": "ipython",
    "version": 3
   },
   "file_extension": ".py",
   "mimetype": "text/x-python",
   "name": "python",
   "nbconvert_exporter": "python",
   "pygments_lexer": "ipython3",
   "version": "3.12.3"
  }
 },
 "nbformat": 4,
 "nbformat_minor": 5
}
