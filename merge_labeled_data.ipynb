{
 "cells": [
  {
   "cell_type": "code",
   "execution_count": 1,
   "id": "97d59613-4af1-4500-8dd8-806a7783b50d",
   "metadata": {},
   "outputs": [
    {
     "name": "stdout",
     "output_type": "stream",
     "text": [
      "✅ Dataset merging completed for student model training.\n"
     ]
    }
   ],
   "source": [
    "# Script to merge original labeled and pseudo-labeled data for Student Model training\n",
    "import os\n",
    "import pandas as pd\n",
    "import shutil\n",
    "\n",
    "# Paths\n",
    "ORIG_IMG_DIR = \"G:/Sajal_Data/Obj_4_Code/Teacher_model_training/data/images\"\n",
    "ORIG_MASK_DIR = \"G:/Sajal_Data/Obj_4_Code/Teacher_model_training/data/masks\"\n",
    "ORIG_CSV = \"G:/Sajal_Data/Obj_4_Code/Teacher_model_training/data/kamra_teacher_expanded.csv\"\n",
    "\n",
    "PSEUDO_IMG_DIR = \"G:/Sajal_Data/Obj_4_Code/TAPNet_Dataset/video_frames\"\n",
    "PSEUDO_MASK_DIR = \"G:/Sajal_Data/Obj_4_Code/TAPNet_Dataset/contour_masks\"\n",
    "PSEUDO_CSV = \"G:/Sajal_Data/Obj_4_Code/TAPNet_Dataset/contour_labels.csv\"\n",
    "\n",
    "MERGED_IMG_DIR = \"G:/Sajal_Data/Obj_4_Code/TAPNet_Dataset/student_training/images\"\n",
    "MERGED_MASK_DIR = \"G:/Sajal_Data/Obj_4_Code/TAPNet_Dataset/student_training/masks\"\n",
    "MERGED_CSV = \"G:/Sajal_Data/Obj_4_Code/TAPNet_Dataset/student_training/merged_dataset.csv\"\n",
    "\n",
    "# Create output directories\n",
    "os.makedirs(MERGED_IMG_DIR, exist_ok=True)\n",
    "os.makedirs(MERGED_MASK_DIR, exist_ok=True)\n",
    "\n",
    "# Load CSVs\n",
    "orig_df = pd.read_csv(ORIG_CSV)\n",
    "pseudo_df = pd.read_csv(PSEUDO_CSV)\n",
    "\n",
    "# Convert pseudo CSV to match original CSV format: [image, plane, value]\n",
    "pseudo_grouped = pseudo_df.groupby(\"image\").first().reset_index()\n",
    "merged_df = pd.concat([orig_df, pseudo_grouped], ignore_index=True)\n",
    "\n",
    "# Copy all images and masks to merged folder\n",
    "def safe_copy(src_dir, dst_dir, name):\n",
    "    src_path = os.path.join(src_dir, name)\n",
    "    dst_path = os.path.join(dst_dir, name)\n",
    "    if os.path.exists(src_path):\n",
    "        shutil.copy(src_path, dst_path)\n",
    "\n",
    "for row in merged_df.itertuples():\n",
    "    img_name = row.image\n",
    "    mask_name = img_name.replace(\".jpg\", \"_mask.png\").replace(\".png\", \"_mask.png\")\n",
    "\n",
    "    if os.path.exists(os.path.join(ORIG_IMG_DIR, img_name)):\n",
    "        safe_copy(ORIG_IMG_DIR, MERGED_IMG_DIR, img_name)\n",
    "        safe_copy(ORIG_MASK_DIR, MERGED_MASK_DIR, mask_name)\n",
    "    elif os.path.exists(os.path.join(PSEUDO_IMG_DIR, img_name)):\n",
    "        safe_copy(PSEUDO_IMG_DIR, MERGED_IMG_DIR, img_name)\n",
    "        safe_copy(PSEUDO_MASK_DIR, MERGED_MASK_DIR, mask_name)\n",
    "\n",
    "# Save final merged dataset CSV\n",
    "merged_df.to_csv(MERGED_CSV, index=False)\n",
    "\n",
    "print(\"✅ Dataset merging completed for student model training.\")"
   ]
  },
  {
   "cell_type": "code",
   "execution_count": null,
   "id": "08d651cc-5acc-4f50-bed3-3cf5da9ac871",
   "metadata": {},
   "outputs": [],
   "source": []
  }
 ],
 "metadata": {
  "kernelspec": {
   "display_name": "Python 3 (ipykernel)",
   "language": "python",
   "name": "python3"
  },
  "language_info": {
   "codemirror_mode": {
    "name": "ipython",
    "version": 3
   },
   "file_extension": ".py",
   "mimetype": "text/x-python",
   "name": "python",
   "nbconvert_exporter": "python",
   "pygments_lexer": "ipython3",
   "version": "3.12.3"
  }
 },
 "nbformat": 4,
 "nbformat_minor": 5
}
