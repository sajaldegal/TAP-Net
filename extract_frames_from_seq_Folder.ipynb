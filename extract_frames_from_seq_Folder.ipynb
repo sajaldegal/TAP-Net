{
 "cells": [
  {
   "cell_type": "code",
   "execution_count": 1,
   "id": "d46b207f-689e-4d7c-b568-0853a5c94856",
   "metadata": {},
   "outputs": [
    {
     "name": "stdout",
     "output_type": "stream",
     "text": [
      "✅ Copied 29146 images to G:\\Sajal_Data\\Obj_4_Code\\TAPNet_Dataset\\video_frames/\n"
     ]
    }
   ],
   "source": [
    "import os\n",
    "import shutil\n",
    "from pathlib import Path\n",
    "\n",
    "# Root directory where folders like seq_000, seq_001, ..., seq_083 are located\n",
    "ROOT_DIR = Path(\"G:/Sajal_Data/Obj_4_Code/TAPNet_Dataset/unlabeled\")  # Change this to your dataset path\n",
    "OUTPUT_DIR = Path(\"G:/Sajal_Data/Obj_4_Code/TAPNet_Dataset/video_frames\")\n",
    "OUTPUT_DIR.mkdir(exist_ok=True)\n",
    "\n",
    "# Accepted image formats\n",
    "IMAGE_EXTS = ['.jpg', '.png']\n",
    "\n",
    "counter = 0\n",
    "for seq_folder in sorted(ROOT_DIR.glob(\"seq_*\")):\n",
    "    if seq_folder.is_dir():\n",
    "        for img_file in seq_folder.iterdir():\n",
    "            if img_file.suffix.lower() in IMAGE_EXTS:\n",
    "                new_name = f\"{seq_folder.name}_{img_file.stem}{img_file.suffix}\"\n",
    "                dest_path = OUTPUT_DIR / new_name\n",
    "                shutil.copy(img_file, dest_path)\n",
    "                counter += 1\n",
    "\n",
    "print(f\"✅ Copied {counter} images to {OUTPUT_DIR}/\")"
   ]
  },
  {
   "cell_type": "code",
   "execution_count": null,
   "id": "2875feed-f732-45c3-a779-5f1bdf0305c9",
   "metadata": {},
   "outputs": [],
   "source": []
  }
 ],
 "metadata": {
  "kernelspec": {
   "display_name": "Python 3 (ipykernel)",
   "language": "python",
   "name": "python3"
  },
  "language_info": {
   "codemirror_mode": {
    "name": "ipython",
    "version": 3
   },
   "file_extension": ".py",
   "mimetype": "text/x-python",
   "name": "python",
   "nbconvert_exporter": "python",
   "pygments_lexer": "ipython3",
   "version": "3.12.3"
  }
 },
 "nbformat": 4,
 "nbformat_minor": 5
}
